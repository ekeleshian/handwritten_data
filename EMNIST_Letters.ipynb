{
 "cells": [
  {
   "cell_type": "markdown",
   "metadata": {},
   "source": [
    "# Loading and Preprocessing the Data"
   ]
  },
  {
   "cell_type": "code",
   "execution_count": 1,
   "metadata": {},
   "outputs": [
    {
     "name": "stderr",
     "output_type": "stream",
     "text": [
      "/home/mathlizard/anaconda3/lib/python3.6/site-packages/h5py/__init__.py:36: FutureWarning: Conversion of the second argument of issubdtype from `float` to `np.floating` is deprecated. In future, it will be treated as `np.float64 == np.dtype(float).type`.\n",
      "  from ._conv import register_converters as _register_converters\n",
      "Using TensorFlow backend.\n"
     ]
    }
   ],
   "source": [
    "import numpy as np\n",
    "import os\n",
    "from keras.utils import to_categorical\n",
    "from sklearn.utils import shuffle\n",
    "\n",
    "np.random.seed(10)\n",
    "\n",
    "#load the data\n",
    "data = np.loadtxt('emnist-letters-train.csv',delimiter=',')\n",
    "\n",
    "#shuffle the data\n",
    "shuffled_data = shuffle(data)\n",
    "\n",
    "\n",
    "#split pixel data without the labels\n",
    "val_data = shuffled_data[:8800,1:] \n",
    "train_data = shuffled_data[8800:61600, 1:]\n",
    "test_data = shuffled_data[61600:,1:]\n",
    "\n",
    "#reshape pixel data to make it mold to CNN architecture\n",
    "train_data = train_data.reshape(train_data.shape[0],28,28,1)\n",
    "test_data = test_data.reshape(test_data.shape[0],28,28,1)\n",
    "val_data = val_data.reshape(val_data.shape[0],28,28,1)\n",
    "\n",
    "#normalize the pixel data for ease of computation in CNN\n",
    "train_data = train_data.astype('float32')/255.0\n",
    "test_data = test_data.astype('float32')/255.0\n",
    "val_data = val_data.astype('float32')/255.0\n",
    "\n",
    "#save the labels\n",
    "labels = shuffled_data[:,0]\n",
    "\n",
    "#one-hot encode the labels\n",
    "labels = to_categorical(labels)\n",
    "\n",
    "#split label data to appropriate size\n",
    "val_labels = labels[:8800]\n",
    "train_labels = labels[8800:61600]\n",
    "test_labels = labels[61600:]\n",
    "\n",
    "#save the labels without the first column, extra dimension of all zeros for some reason?\n",
    "val_labels = val_labels[:,1:]\n",
    "train_labels = train_labels[:,1:]\n",
    "test_labels = test_labels[:,1:]\n",
    "\n",
    "\n",
    "\n",
    "\n"
   ]
  },
  {
   "cell_type": "markdown",
   "metadata": {},
   "source": [
    "## Model the CNN architecture"
   ]
  },
  {
   "cell_type": "code",
   "execution_count": 2,
   "metadata": {},
   "outputs": [
    {
     "name": "stdout",
     "output_type": "stream",
     "text": [
      "_________________________________________________________________\n",
      "Layer (type)                 Output Shape              Param #   \n",
      "=================================================================\n",
      "conv2d_1 (Conv2D)            (None, 26, 26, 32)        320       \n",
      "_________________________________________________________________\n",
      "max_pooling2d_1 (MaxPooling2 (None, 13, 13, 32)        0         \n",
      "_________________________________________________________________\n",
      "conv2d_2 (Conv2D)            (None, 11, 11, 64)        18496     \n",
      "_________________________________________________________________\n",
      "max_pooling2d_2 (MaxPooling2 (None, 5, 5, 64)          0         \n",
      "_________________________________________________________________\n",
      "conv2d_3 (Conv2D)            (None, 3, 3, 64)          36928     \n",
      "_________________________________________________________________\n",
      "flatten_1 (Flatten)          (None, 576)               0         \n",
      "_________________________________________________________________\n",
      "dense_1 (Dense)              (None, 128)               73856     \n",
      "_________________________________________________________________\n",
      "dense_2 (Dense)              (None, 26)                3354      \n",
      "=================================================================\n",
      "Total params: 132,954\n",
      "Trainable params: 132,954\n",
      "Non-trainable params: 0\n",
      "_________________________________________________________________\n"
     ]
    }
   ],
   "source": [
    "from keras import models, layers\n",
    "\n",
    "model = models.Sequential()\n",
    "\n",
    "model.add(layers.Conv2D(\n",
    "    32,\n",
    "    (3,3),\n",
    "    activation=\"relu\",\n",
    "    input_shape=(28, 28, 1)\n",
    "))\n",
    "model.add(layers.MaxPooling2D((2,2)))\n",
    "model.add(layers.Conv2D(64, (3,3), activation=\"relu\"))\n",
    "model.add(layers.MaxPooling2D((2,2)))\n",
    "model.add(layers.Conv2D(64, (3,3), activation=\"relu\"))\n",
    "model.add(layers.Flatten())\n",
    "model.add(layers.Dense(128, activation=\"relu\"))\n",
    "model.add(layers.Dense(26, activation=\"softmax\"))\n",
    "\n",
    "model.summary()\n",
    "\n",
    "model.compile(\n",
    "    optimizer=\"rmsprop\",\n",
    "    loss=\"categorical_crossentropy\",\n",
    "    metrics=[\"accuracy\"]\n",
    ")"
   ]
  },
  {
   "cell_type": "code",
   "execution_count": 3,
   "metadata": {},
   "outputs": [
    {
     "name": "stdout",
     "output_type": "stream",
     "text": [
      "Train on 52800 samples, validate on 8800 samples\n",
      "Epoch 1/8\n",
      "52800/52800 [==============================] - 23s 436us/step - loss: 0.7558 - acc: 0.7656 - val_loss: 0.4190 - val_acc: 0.8549\n",
      "Epoch 2/8\n",
      "52800/52800 [==============================] - 26s 489us/step - loss: 0.3145 - acc: 0.8962 - val_loss: 0.2760 - val_acc: 0.9082\n",
      "Epoch 3/8\n",
      "52800/52800 [==============================] - 25s 479us/step - loss: 0.2463 - acc: 0.9166 - val_loss: 0.2498 - val_acc: 0.9200\n",
      "Epoch 4/8\n",
      "52800/52800 [==============================] - 25s 479us/step - loss: 0.2100 - acc: 0.9293 - val_loss: 0.2581 - val_acc: 0.9135\n",
      "Epoch 5/8\n",
      "52800/52800 [==============================] - 26s 487us/step - loss: 0.1891 - acc: 0.9350 - val_loss: 0.2561 - val_acc: 0.9210\n",
      "Epoch 6/8\n",
      "52800/52800 [==============================] - 25s 479us/step - loss: 0.1692 - acc: 0.9416 - val_loss: 0.2451 - val_acc: 0.9217\n",
      "Epoch 7/8\n",
      "52800/52800 [==============================] - 26s 483us/step - loss: 0.1565 - acc: 0.9440 - val_loss: 0.2549 - val_acc: 0.9187\n",
      "Epoch 8/8\n",
      "52800/52800 [==============================] - 25s 478us/step - loss: 0.1474 - acc: 0.9478 - val_loss: 0.2973 - val_acc: 0.9192\n"
     ]
    }
   ],
   "source": [
    "history = model.fit(\n",
    "    train_data, train_labels, \n",
    "    epochs=8,     \n",
    "    batch_size=64,\n",
    "    validation_data=(val_data, val_labels)\n",
    ")"
   ]
  },
  {
   "cell_type": "code",
   "execution_count": 4,
   "metadata": {},
   "outputs": [
    {
     "data": {
      "text/plain": [
       "<Figure size 640x480 with 1 Axes>"
      ]
     },
     "metadata": {},
     "output_type": "display_data"
    }
   ],
   "source": [
    "import matplotlib.pyplot as plt\n",
    "plt.subplot(1,1,1)\n",
    "plt.plot(history.history['val_acc'], label='validation_acc')\n",
    "plt.plot(history.history['acc'], label='train_acc')\n",
    "plt.legend()\n",
    "plt.show()\n",
    "plt.close()"
   ]
  },
  {
   "cell_type": "code",
   "execution_count": 5,
   "metadata": {},
   "outputs": [],
   "source": [
    "# test_loss, test_acc = model.evaluate(train_data, train_labels)  \n",
    "# print(test_loss, test_acc)"
   ]
  },
  {
   "cell_type": "code",
   "execution_count": 6,
   "metadata": {},
   "outputs": [
    {
     "data": {
      "image/png": "[encoded data removed]",
      "text/plain": [
       "<Figure size 432x288 with 1 Axes>"
      ]
     },
     "metadata": {},
     "output_type": "display_data"
    }
   ],
   "source": [
    "plt.subplot(1,1,1)\n",
    "plt.plot(history.history['val_loss'], label='validation_loss')\n",
    "plt.plot(history.history['loss'], label='train_loss')\n",
    "plt.legend()\n",
    "plt.show()\n",
    "plt.close()"
   ]
  },
  {
   "cell_type": "code",
   "execution_count": null,
   "metadata": {},
   "outputs": [],
   "source": []
  }
 ],
 "metadata": {
  "kernelspec": {
   "display_name": "Python 3",
   "language": "python",
   "name": "python3"
  },
  "language_info": {
   "codemirror_mode": {
    "name": "ipython",
    "version": 3
   },
   "file_extension": ".py",
   "mimetype": "text/x-python",
   "name": "python",
   "nbconvert_exporter": "python",
   "pygments_lexer": "ipython3",
   "version": "3.6.5"
  }
 },
 "nbformat": 4,
 "nbformat_minor": 2
}
